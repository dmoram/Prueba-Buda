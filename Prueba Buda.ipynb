{
 "cells": [
  {
   "cell_type": "code",
   "execution_count": 25,
   "id": "c10cc283",
   "metadata": {},
   "outputs": [],
   "source": [
    "import time\n",
    "import requests\n",
    "import pandas as pd\n"
   ]
  },
  {
   "cell_type": "markdown",
   "id": "b3ba1bac",
   "metadata": {},
   "source": [
    "## Cálculo de total de dinero transado en el BlackBuda"
   ]
  },
  {
   "cell_type": "markdown",
   "id": "c66a2d2f",
   "metadata": {},
   "source": [
    "### Obtención de datos BlackBuda 2024"
   ]
  },
  {
   "cell_type": "code",
   "execution_count": 75,
   "id": "9775e265",
   "metadata": {},
   "outputs": [],
   "source": [
    "# Datos obtenidos de https://www.epochconverter.com\n",
    "# Timestamp 1/3/2024 12:00\n",
    "date_inicio = '1709305200000'\n",
    "\n",
    "# Timestamp 1/3/2024 13:00\n",
    "date_final = '1709308800000'\n",
    "\n",
    "market_id = 'btc-clp'\n",
    "url = f'https://www.buda.com/api/v2/markets/btc-clp/trades'\n",
    "\n",
    "# Primera parte de los datos BlackBuda\n",
    "response = requests.get(url, params={\n",
    "    'timestamp': date_final,\n",
    "    'limit': 100,\n",
    "})\n",
    "data = response.json()\n",
    "df = pd.DataFrame(data['trades']['entries'], columns=['timestamp', 'price', 'amount', 'type', 'id'] )"
   ]
  },
  {
   "cell_type": "markdown",
   "id": "e8ea0c0b",
   "metadata": {},
   "source": [
    "### Primera porción de los datos BlackBuda"
   ]
  },
  {
   "cell_type": "code",
   "execution_count": 98,
   "id": "25174bdb",
   "metadata": {},
   "outputs": [],
   "source": [
    "response = requests.get(url, params={\n",
    "    'timestamp': date_final,\n",
    "    'limit': 100,\n",
    "})\n",
    "data = response.json()\n",
    "df = pd.DataFrame(data['trades']['entries'], columns=['timestamp', 'price', 'amount', 'type', 'id'] )"
   ]
  },
  {
   "cell_type": "markdown",
   "id": "d3761a1a",
   "metadata": {},
   "source": [
    "### Segunda porción de los datos BlackBuda"
   ]
  },
  {
   "cell_type": "code",
   "execution_count": 83,
   "id": "17a109ff",
   "metadata": {},
   "outputs": [],
   "source": [
    "# Segunda parte datos BlackBuda\n",
    "response = requests.get(url, params={\n",
    "    'timestamp': '1709306435985',\n",
    "    'limit': 50,\n",
    "})\n",
    "data2 = response.json()\n",
    "df2 = pd.DataFrame(data2['trades']['entries'], columns=['timestamp', 'price', 'amount', 'type', 'id'])\n",
    "\n",
    "# Slice de los datos que están dentro de la hora\n",
    "df2 = df2[df2['timestamp'] >= date_inicio]\n"
   ]
  },
  {
   "cell_type": "markdown",
   "id": "28f092a4",
   "metadata": {},
   "source": [
    "### Unión de los datasets"
   ]
  },
  {
   "cell_type": "code",
   "execution_count": 108,
   "id": "975e0f42",
   "metadata": {},
   "outputs": [],
   "source": [
    "df_blackBuda_2024 = pd.concat([df, df2])"
   ]
  },
  {
   "cell_type": "code",
   "execution_count": 121,
   "id": "31893203",
   "metadata": {
    "scrolled": true
   },
   "outputs": [
    {
     "name": "stdout",
     "output_type": "stream",
     "text": [
      "Dinero transado BlackBuda 2024: 58593019.68551674\n"
     ]
    }
   ],
   "source": [
    "# Resultado obtenido\n",
    "tot_dinero_2024 = df_blackBuda_2024['price'].astype('float64') * df_blackBuda_2024['amount'].astype('float64')\n",
    "resultado_2024 = tot_dinero_2024.sum()\n",
    "print(f'Dinero transado BlackBuda 2024: {resultado_2024}')"
   ]
  },
  {
   "cell_type": "markdown",
   "id": "7d3acb34",
   "metadata": {},
   "source": [
    "## Comparación con el mismo día en el año anterior en volumen de transacciones"
   ]
  },
  {
   "cell_type": "markdown",
   "id": "1803092f",
   "metadata": {},
   "source": [
    "### Obtención de datos BlackBuda 2023"
   ]
  },
  {
   "cell_type": "code",
   "execution_count": 132,
   "id": "478770c0",
   "metadata": {},
   "outputs": [],
   "source": [
    "# Timestamp 1/3/2023 12:00\n",
    "date_inicio_23 = '1677682800000'\n",
    "\n",
    "# Timestamp 1/3/2024 13:00\n",
    "date_final_23 = '1677686400000'\n",
    "\n",
    "\n",
    "market_id = 'btc'\n",
    "url = f'https://www.buda.com/api/v2/markets/btc-clp/trades'\n",
    "\n",
    "# Datos BlackBuda 2023\n",
    "response = requests.get(url, params={\n",
    "    'timestamp': date_final_23,\n",
    "    'limit': 100,\n",
    "})\n",
    "\n",
    "data_2023 = response.json()\n",
    "df_2023 = pd.DataFrame(data_2023['trades']['entries'], columns=['timestamp', 'price', 'amount', 'type', 'id'] )\n",
    "\n",
    "\n",
    "# Dataframe BlackBuda 2023\n",
    "df_blackBuda_2023 = df_2023[df_2023['timestamp'] >= date_inicio_23]\n"
   ]
  },
  {
   "cell_type": "markdown",
   "id": "a4313961",
   "metadata": {},
   "source": [
    "### Cálculo de volumen de transacciones en BTC"
   ]
  },
  {
   "cell_type": "code",
   "execution_count": 148,
   "id": "849ca714",
   "metadata": {},
   "outputs": [
    {
     "name": "stdout",
     "output_type": "stream",
     "text": [
      "0.47857174\n"
     ]
    }
   ],
   "source": [
    "# Volumen BlackBuda 2023\n",
    "vol_btc_2023 = df_blackBuda_2023['price'].astype('float64').sum()\n",
    "print(vol_btc_2023)"
   ]
  },
  {
   "cell_type": "code",
   "execution_count": 149,
   "id": "5b9b2f5b",
   "metadata": {},
   "outputs": [
    {
     "name": "stdout",
     "output_type": "stream",
     "text": [
      "0.9837545399999998\n"
     ]
    }
   ],
   "source": [
    "# Volumen Black Buda 2024\n",
    "vol_btc_2024 = df_blackBuda_2024['price'].astype('float64').sum()\n",
    "print(vol_btc_2024)"
   ]
  },
  {
   "cell_type": "markdown",
   "id": "d952c65a",
   "metadata": {},
   "source": [
    "### Cálculo de aumento porcentual"
   ]
  },
  {
   "cell_type": "code",
   "execution_count": 152,
   "id": "de101c3f",
   "metadata": {},
   "outputs": [
    {
     "name": "stdout",
     "output_type": "stream",
     "text": [
      "105.56051638151467\n"
     ]
    }
   ],
   "source": [
    "aumento = (vol_btc_2024 - vol_btc_2023)*(100 / vol_btc_2023)\n",
    "print(aumento)"
   ]
  },
  {
   "cell_type": "markdown",
   "id": "8c5cc812",
   "metadata": {},
   "source": [
    "## Dinero perdido por comisiones"
   ]
  },
  {
   "cell_type": "code",
   "execution_count": 168,
   "id": "393e29eb",
   "metadata": {},
   "outputs": [
    {
     "name": "stdout",
     "output_type": "stream",
     "text": [
      "468744.1574841339\n"
     ]
    }
   ],
   "source": [
    "res = (df_blackBuda_2024['price'].astype('float64') * df_blackBuda_2024['amount'].astype('float64') * 0.008).sum()\n",
    "print(res)"
   ]
  },
  {
   "cell_type": "code",
   "execution_count": null,
   "id": "3822090b",
   "metadata": {},
   "outputs": [],
   "source": []
  }
 ],
 "metadata": {
  "kernelspec": {
   "display_name": "Python 3 (ipykernel)",
   "language": "python",
   "name": "python3"
  },
  "language_info": {
   "codemirror_mode": {
    "name": "ipython",
    "version": 3
   },
   "file_extension": ".py",
   "mimetype": "text/x-python",
   "name": "python",
   "nbconvert_exporter": "python",
   "pygments_lexer": "ipython3",
   "version": "3.10.4"
  }
 },
 "nbformat": 4,
 "nbformat_minor": 5
}
